{
 "cells": [
  {
   "cell_type": "code",
   "execution_count": 4,
   "metadata": {},
   "outputs": [],
   "source": [
    "# Plotting Packages\n",
    "import matplotlib.pyplot as plt\n",
    "import seaborn as sbn\n",
    "\n",
    "import matplotlib as mpl\n",
    "mpl.rcParams['figure.dpi'] = 150\n",
    "savefig_options = dict(format=\"png\", dpi=150, bbox_inches=\"tight\")\n",
    "\n",
    "# Computation packages\n",
    "from scipy.spatial.distance import euclidean\n",
    "from fastdtw import fastdtw"
   ]
  },
  {
   "cell_type": "code",
   "execution_count": 2,
   "metadata": {},
   "outputs": [
    {
     "name": "stdout",
     "output_type": "stream",
     "text": [
      "        timestamp        Gx        Gy        Gz        Ax        Ay         Az\n",
      "0      437773.020  0.030526 -0.032188 -0.031856 -1.457032  3.898439  -9.480474\n",
      "1      437773.040 -0.069907  0.023014  0.069775  3.433596 -0.416992 -10.301763\n",
      "2      437773.060  0.012434 -0.005782  0.005454 -2.471681  2.782228 -10.221685\n",
      "3      437773.079  0.078553 -0.023342 -0.012033  1.416016 -0.551758  -9.405278\n",
      "4      437773.099 -0.085605  0.011773  0.013435  1.402345  0.773438 -10.289068\n",
      "...           ...       ...       ...       ...       ...       ...        ...\n",
      "45657  438817.059 -0.063920  0.213582  0.013904  3.509767 -2.132814 -10.810552\n",
      "45658  438817.078  0.091387 -0.284413 -0.025541 -4.244143  1.204102  -9.227544\n",
      "45659  438817.098 -0.285815  0.281026  0.082677  3.607424  4.361330  -9.300786\n",
      "45660  438817.118  0.334630 -0.263794 -0.149921 -4.773440 -5.686526 -11.771490\n",
      "45661  438817.138 -0.280493  0.153317  0.146998  6.512699  9.839849  -8.175785\n",
      "\n",
      "[45662 rows x 7 columns]\n"
     ]
    }
   ],
   "source": [
    "# Read the text file into a DataFrame without header row and with specific column names\n",
    "df = pd.read_csv('./data/lamhong2imu.txt', sep=' ', header=None, names=['timestamp', 'Gx', 'Gy', 'Gz', 'Ax', 'Ay', 'Az'])\n",
    "\n",
    "# Display the DataFrame\n",
    "print(df)\n"
   ]
  },
  {
   "cell_type": "code",
   "execution_count": 5,
   "metadata": {},
   "outputs": [],
   "source": [
    "def compute_euclidean_distance_matrix(x, y) -> np.array:\n",
    "    \"\"\"Calculate distance matrix\n",
    "    This method calcualtes the pairwise Euclidean distance between two sequences.\n",
    "    The sequences can have different lengths.\n",
    "    \"\"\"\n",
    "    dist = np.zeros((len(y), len(x)))\n",
    "    for i in range(len(y)):\n",
    "        for j in range(len(x)):\n",
    "            dist[i,j] = (x[j]-y[i])**2\n",
    "    return dist"
   ]
  },
  {
   "cell_type": "code",
   "execution_count": 6,
   "metadata": {},
   "outputs": [],
   "source": [
    "def compute_accumulated_cost_matrix(x, y) -> np.array:\n",
    "    \"\"\"Compute accumulated cost matrix for warp path using Euclidean distance\n",
    "    \"\"\"\n",
    "    distances = compute_euclidean_distance_matrix(x, y)\n",
    "\n",
    "    # Initialization\n",
    "    cost = np.zeros((len(y), len(x)))\n",
    "    cost[0,0] = distances[0,0]\n",
    "    \n",
    "    for i in range(1, len(y)):\n",
    "        cost[i, 0] = distances[i, 0] + cost[i-1, 0]  \n",
    "        \n",
    "    for j in range(1, len(x)):\n",
    "        cost[0, j] = distances[0, j] + cost[0, j-1]  \n",
    "\n",
    "    # Accumulated warp path cost\n",
    "    for i in range(1, len(y)):\n",
    "        for j in range(1, len(x)):\n",
    "            cost[i, j] = min(\n",
    "                cost[i-1, j],    # insertion\n",
    "                cost[i, j-1],    # deletion\n",
    "                cost[i-1, j-1]   # match\n",
    "            ) + distances[i, j] \n",
    "            \n",
    "    return cost\n"
   ]
  },
  {
   "cell_type": "code",
   "execution_count": null,
   "metadata": {},
   "outputs": [],
   "source": []
  }
 ],
 "metadata": {
  "kernelspec": {
   "display_name": "Python 3",
   "language": "python",
   "name": "python3"
  },
  "language_info": {
   "codemirror_mode": {
    "name": "ipython",
    "version": 3
   },
   "file_extension": ".py",
   "mimetype": "text/x-python",
   "name": "python",
   "nbconvert_exporter": "python",
   "pygments_lexer": "ipython3",
   "version": "3.8.2"
  }
 },
 "nbformat": 4,
 "nbformat_minor": 2
}
